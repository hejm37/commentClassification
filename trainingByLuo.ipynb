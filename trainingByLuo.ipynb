{
 "cells": [
  {
   "cell_type": "code",
   "execution_count": 1,
   "metadata": {},
   "outputs": [],
   "source": [
    "import csv\n",
    "# 读取filename里面的数据\n",
    "def readFromFile(filename):\n",
    "    dataLines = []\n",
    "    with open(filename, newline='',encoding='utf-8') as f:#这里改了encoding方式，不然我打不开\n",
    "#         remove the first line\n",
    "#         去除第一行\n",
    "        f.readline()\n",
    "        rows = csv.reader(f)\n",
    "        dataLines = list(rows)\n",
    "#         correct the label into standard form\n",
    "#         将字符型label转换为整数型label，并且补全将‘’补成0\n",
    "        for dataLine in dataLines:\n",
    "            if dataLine[1] == '0.0' or dataLine[1] == '':\n",
    "                dataLine[1] = 0\n",
    "            elif dataLine[1] == '1.0':\n",
    "                dataLine[1] = 1\n",
    "        \n",
    "            if dataLine[0] == '0.0' or dataLine[0] == '':\n",
    "                dataLine[0] = 0\n",
    "            elif dataLine[0] == '1.0':\n",
    "                dataLine[0] = 1\n",
    "                dataLine[1] = 1\n",
    "    return dataLines\n",
    "filenames = ['data/part1.csv', 'data/part2.csv', 'data/part4.csv','data/template1.csv','data/template2.csv']\n",
    "dataLines = []\n",
    "for filename in filenames:\n",
    "    dataLines_ = readFromFile(filename)\n",
    "    dataLines += dataLines_"
   ]
  },
  {
   "cell_type": "code",
   "execution_count": 2,
   "metadata": {},
   "outputs": [],
   "source": [
    "# read data\n",
    "# 数据读取\n",
    "import csv\n",
    "\n",
    "# 读取filename里面的数据\n",
    "def readFromFile(filename):\n",
    "    dataLines = []\n",
    "    with open(filename, newline='',encoding='utf-8') as f:\n",
    "#         remove the first line\n",
    "#         去除第一行\n",
    "        f.readline()\n",
    "        rows = csv.reader(f)\n",
    "        dataLines = list(rows)\n",
    "#         correct the label into standard form\n",
    "#         将字符型label转换为整数型label，并且补全将‘’补成0\n",
    "        for dataLine in dataLines:\n",
    "            if dataLine[0] == '0.0' or dataLine[0] == '':\n",
    "                dataLine[0] = 0\n",
    "            elif dataLine[0] == '1.0':\n",
    "                dataLine[0] = 1\n",
    "            \n",
    "            if dataLine[1] == '0.0' or dataLine[1] == '':\n",
    "                dataLine[1] = 0\n",
    "            elif dataLine[1] == '1.0':\n",
    "                dataLine[1] = 1\n",
    "    return dataLines\n",
    "\n",
    "filenames = ['data/part1.csv', 'data/part2.csv', 'data/part4.csv','data/template1.csv','data/template2.csv']\n",
    "dataLines = []\n",
    "for filename in filenames:\n",
    "    dataLines_ = readFromFile(filename)\n",
    "    dataLines += dataLines_"
   ]
  },
  {
   "cell_type": "code",
   "execution_count": 3,
   "metadata": {},
   "outputs": [
    {
     "data": {
      "text/plain": [
       "688"
      ]
     },
     "execution_count": 3,
     "metadata": {},
     "output_type": "execute_result"
    }
   ],
   "source": [
    "len(dataLines)"
   ]
  },
  {
   "cell_type": "code",
   "execution_count": 4,
   "metadata": {},
   "outputs": [
    {
     "data": {
      "text/plain": [
       "[1,\n",
       " 1,\n",
       " '很棒棒哦哦哦哦哦哦哦哦哦哦哦哦哦哦哦哦哦哦哦哦哦哦哦哦哦哦哦哦哦真的还可以啊姐姐我自己的评论的远离家乡为生活奔波的我，在这个特别的日子里，要感恩生我爱我的家人，感恩无论多么遥远始终挂念着我的朋友。感谢你们让我成为一个内心温暖的人！']"
      ]
     },
     "execution_count": 4,
     "metadata": {},
     "output_type": "execute_result"
    }
   ],
   "source": [
    "dataLines_[1]"
   ]
  },
  {
   "cell_type": "code",
   "execution_count": 5,
   "metadata": {},
   "outputs": [
    {
     "name": "stdout",
     "output_type": "stream",
     "text": [
      "[1, 1, '丑 普希金的《致大海》 再见吧，自由的原素！ 最后一次了，在我眼前 你的蓝色的浪头翻滚起伏， 你的骄傲的美闪烁壮观。 仿佛友人的忧郁的絮语， 仿佛他别离一刻的招呼， 最后一次了，我听着你的 喧声呼唤，你的沉郁的吐诉。 我全心渴望的国度啊，大海！ 多么常常地，在你的岸上 我静静地，迷惘地徘徊， 苦思着我那珍爱的愿望。 啊，我多么爱听你的回声， 那喑哑的声音，那深渊之歌， 我爱听你黄昏时分的幽静， 和你任性的脾气的发作！ 渔人的渺小的帆凭着 你的喜怒无常的保护 在两齿之间大胆地滑过， 但你若汹涌起来，无法克服， 成群的渔船就会覆没。 直到现在，我还不能离开 这令我厌烦的凝固的石岸， 我还没有热烈地拥抱你，大海！ 也没有让我的诗情的波澜 随着你的山脊跑开！ 你在期待，呼唤&hellip;&hellip;我却被缚住， 我的心徒然想要挣脱开， 是更强烈的感情把我迷住， 于是我在岸边留下来&hellip;&hellip; 有什么可顾惜的？而今哪里 能使我奔上坦荡的途径？ 在你的荒凉中，只有一件东西 也许还激动我的心灵。 一面峭壁，一座光荣的坟墓&hellip;&hellip; 那里，种种伟大的回忆 已在寒冷的梦里沉没， 啊，是拿破仑熄灭在那里。 他已经在苦恼里长眠。 紧随着他，另']\n"
     ]
    }
   ],
   "source": [
    "# 查看最后一行数据\n",
    "print(dataLines[683])"
   ]
  },
  {
   "cell_type": "markdown",
   "metadata": {},
   "source": [
    "# comment data preprocessing"
   ]
  },
  {
   "cell_type": "code",
   "execution_count": 6,
   "metadata": {},
   "outputs": [],
   "source": [
    "# comment data preprocessing\n",
    "# 评论数据的预处理\n",
    "## 0. shuffle data\n",
    "## 0. 打乱数据顺序（需要注意由于数据打乱了，每次执行的结果都会不同）\n",
    "from random import shuffle\n",
    "shuffle(dataLines)"
   ]
  },
  {
   "cell_type": "code",
   "execution_count": 7,
   "metadata": {},
   "outputs": [
    {
     "name": "stdout",
     "output_type": "stream",
     "text": [
      "660\n"
     ]
    }
   ],
   "source": [
    "## 1. remove default comment\n",
    "## 1. 去除默认评论\n",
    "dataLines1 = [line for line in dataLines if line[2] != '此用户没有填写评论!']\n",
    "print(len(dataLines1))      # 查看剩余数据量"
   ]
  },
  {
   "cell_type": "code",
   "execution_count": 8,
   "metadata": {},
   "outputs": [
    {
     "name": "stdout",
     "output_type": "stream",
     "text": [
      "[0, 0, '前面买了一件上身刚刚好老公很喜欢第二次回购一口气买四件质量好手感好']\n"
     ]
    }
   ],
   "source": [
    "## 2. remove noise\n",
    "## 2. 移除噪声符号（可以修改，见文件word2vec/utils.py）\n",
    "## [参考](https://blog.csdn.net/mach_learn/article/details/41744487)\n",
    "import re\n",
    "from word2vec.utils import remove_noise\n",
    "\n",
    "dataLines2 = [[line[0], line[1], remove_noise(line[2])] for line in dataLines1]\n",
    "#在除去了默认评论后的数据集1的基础上移除噪声，对line中的第三部分（就是评论部分）移除噪声\n",
    "print(dataLines2[0])        # 随机查看一条数据"
   ]
  },
  {
   "cell_type": "code",
   "execution_count": 9,
   "metadata": {},
   "outputs": [],
   "source": [
    "## 3. text segmentation\n",
    "## 3. 使用jieba分词\n",
    "import jieba\n",
    "\n",
    "def segmentation(text):\n",
    "    return jieba.cut(text)\n",
    "\n",
    "dataLines3 = [[line[0], line[1], segmentation(line[2])] for line in dataLines2]"
   ]
  },
  {
   "cell_type": "code",
   "execution_count": 10,
   "metadata": {},
   "outputs": [
    {
     "name": "stderr",
     "output_type": "stream",
     "text": [
      "Building prefix dict from the default dictionary ...\n",
      "Loading model from cache /tmp/jieba.cache\n",
      "Loading model cost 0.641 seconds.\n",
      "Prefix dict has been built succesfully.\n"
     ]
    }
   ],
   "source": [
    "## 4. remove stop words\n",
    "## 4. 移除停用词\n",
    "\n",
    "# 加载停用词\n",
    "def loadStopWords(filename):\n",
    "    stopwords = [line.strip() for line in \\\n",
    "                 open(filename, 'r', encoding='utf-8').readlines()]\n",
    "    return stopwords\n",
    "\n",
    "stopWordFilename = 'data/stop_words.txt'\n",
    "stopWords = loadStopWords(stopWordFilename)\n",
    "dataLines4 = [[line[0], line[1], [word for word in line[2] if word not in stopWords]]\n",
    "             for line in dataLines3]\n",
    "#把数据集3里的词过滤停用词，这里如果3中的line有停用词，这一行是不是就没有东西？"
   ]
  },
  {
   "cell_type": "code",
   "execution_count": 11,
   "metadata": {},
   "outputs": [
    {
     "data": {
      "text/plain": [
       "[0,\n",
       " 0,\n",
       " array([-8.20455456e+00,  8.88252640e+00,  2.00976515e+00, -2.91644716e+00,\n",
       "         2.09772635e+00, -1.11000500e+01, -1.48308935e+01, -1.35158463e+01,\n",
       "        -4.73030716e-01, -2.51412892e+00,  8.84997749e+00, -9.92908120e-01,\n",
       "        -4.51319647e+00,  1.55463898e+00, -5.84110641e+00,  1.46065073e+01,\n",
       "         5.87366819e+00,  6.87709332e+00,  1.44698582e+01,  1.42021503e+01,\n",
       "        -1.07972422e+01, -3.14111805e+00,  6.47470617e+00,  5.28907728e+00,\n",
       "         1.68949872e-01,  5.29124737e+00, -1.18839970e+01, -1.71041489e+00,\n",
       "         2.51614046e+00,  9.48637772e+00, -1.17515430e+01, -3.21484208e+00,\n",
       "        -9.17351055e+00, -1.61176224e+01,  2.16189528e+00, -2.98551250e+00,\n",
       "        -3.86554050e+00,  6.29609823e-03,  2.55772281e+00,  1.43725863e+01,\n",
       "        -1.50025454e+01, -2.67801881e-02,  4.12680292e+00,  6.34397984e+00,\n",
       "         2.72660995e+00,  5.24617290e+00, -2.95949435e+00,  1.42152605e+01,\n",
       "        -5.98806667e+00, -7.32537317e+00,  7.19866133e+00,  5.21284401e-01,\n",
       "         2.20751667e+00, -7.22721958e+00, -1.61083698e+01,  9.76916134e-01,\n",
       "        -6.62816644e-01,  4.75049829e+00,  4.65963650e+00, -1.50922213e+01,\n",
       "         5.96350384e+00, -2.98890996e+00, -5.30354071e+00, -1.39206820e+01,\n",
       "         2.93056369e+00, -3.07535386e+00,  5.44705677e+00,  5.57499695e+00,\n",
       "        -5.59552860e+00,  7.52971601e+00, -8.73669243e+00,  3.11160016e+00,\n",
       "         3.25757051e+00, -1.03666267e+01,  4.35901499e+00, -3.00459385e-01,\n",
       "         2.47858953e+00, -7.76232767e+00,  8.71270561e+00,  5.45312262e+00,\n",
       "        -6.08040714e+00, -9.21683121e+00, -1.04428492e+01,  1.11287174e+01,\n",
       "         3.24957967e-01,  2.71828294e+00, -4.45328617e+00,  1.03545356e+00,\n",
       "         3.40553975e+00, -1.62610972e+00,  9.94221497e+00,  5.26249409e-01,\n",
       "        -1.51320772e+01, -2.78098047e-01, -2.60879946e+00, -1.22018504e+00,\n",
       "        -1.00108547e+01,  6.75307751e+00, -5.36163378e+00, -8.28052235e+00],\n",
       "       dtype=float32)]"
      ]
     },
     "execution_count": 11,
     "metadata": {},
     "output_type": "execute_result"
    }
   ],
   "source": [
    "## 5. word Embedding, the word2Vec training see folder word2vec\n",
    "## 5. 词向量嵌入，这里加载训练好的word2vec模型，训练过程见文件夹word2vec\n",
    "## Currently the corpus is not cleaned yet.\n",
    "## 现在训练word2vec模型的语料预处理同前面一样，调用remove_noise()和结巴分词\n",
    "import gensim\n",
    "\n",
    "# 加载训练好的模型\n",
    "model = gensim.models.Word2Vec.load('word2vec/w2v.model')\n",
    "\n",
    "# 将文本转换为词向量\n",
    "dataLines5 = []\n",
    "for line in dataLines4:\n",
    "    temp = []\n",
    "    temp = [model.wv[word] for word in line[2] if word in list(model.wv.vocab)]\n",
    "    #把数据集4中的一行line提取出来，对评论(line[2])中的每一个word进行判断，如果这个词在vocab里面就进行转换\n",
    "    if len(temp) == 0:\n",
    "        temp = [0 for i in range(100)]\n",
    "    else:\n",
    "        temp = sum(temp)\n",
    "    dataLines5.append([line[0], line[1], temp])\n",
    "dataLines5[2]"
   ]
  },
  {
   "cell_type": "code",
   "execution_count": 12,
   "metadata": {},
   "outputs": [],
   "source": [
    "# logistic regression\n",
    "# logistic回归\n",
    "\n",
    "from sklearn.linear_model import LogisticRegression\n",
    "import numpy as np\n",
    "\n",
    "# 将dataLines5的数据，label分开\n",
    "X_all = [line[2] for line in dataLines5]\n",
    "Y1_all = [line[0] for line in dataLines5]\n",
    "Y2_all = [line[1] for line in dataLines5]\n",
    "\n",
    "# 划分数据，前500条为训练集，后72条为测试集\n",
    "X_train = X_all[0:500]\n",
    "Y1_train = Y1_all[0:500]\n",
    "Y2_train = Y2_all[0:500]\n",
    "\n",
    "X_test = X_all[500:]\n",
    "Y1_test = Y1_all[500:]\n",
    "Y2_test = Y2_all[500:]"
   ]
  },
  {
   "cell_type": "markdown",
   "metadata": {},
   "source": [
    "# 看看各个集合的数目"
   ]
  },
  {
   "cell_type": "code",
   "execution_count": 13,
   "metadata": {},
   "outputs": [
    {
     "name": "stdout",
     "output_type": "stream",
     "text": [
      "160\n"
     ]
    }
   ],
   "source": [
    "print(len(Y1_test))"
   ]
  },
  {
   "cell_type": "code",
   "execution_count": 14,
   "metadata": {},
   "outputs": [
    {
     "data": {
      "text/plain": [
       "0.18125"
      ]
     },
     "execution_count": 14,
     "metadata": {},
     "output_type": "execute_result"
    }
   ],
   "source": [
    "Y1_test.count(1)/len(Y1_test)"
   ]
  },
  {
   "cell_type": "code",
   "execution_count": 15,
   "metadata": {},
   "outputs": [
    {
     "name": "stdout",
     "output_type": "stream",
     "text": [
      "模板评论测试集合长度为160,有29个模板, 比例为18.125%\n",
      "水评测试集合长度为160,有43个水评, 比例为26.875%\n"
     ]
    }
   ],
   "source": [
    "#print(Y1_test.count(1),Y2_test.count(1),Y2_test.count(1))\n",
    "print(\"模板评论测试集合长度为{0},有{1}个模板, 比例为{2}%\".format(len(Y1_test),(Y1_test.count(1)), (Y1_test.count(1)*100 /(len(Y1_test)) )))\n",
    "print(\"水评测试集合长度为{0},有{1}个水评, 比例为{2}%\".format(len(Y2_test),(Y2_test.count(1)), (Y2_test.count(1)*100 /(len(Y2_test)) )))\n",
    "#print(\"TestSet1' length is {0}, with {1} templet\".format(len(Y1_test),Y1_test.count(1)))"
   ]
  },
  {
   "cell_type": "markdown",
   "metadata": {},
   "source": [
    "# 0.对数据集转换为numpy形式"
   ]
  },
  {
   "cell_type": "code",
   "execution_count": 16,
   "metadata": {},
   "outputs": [],
   "source": [
    "import numpy as np\n",
    "#把label转化为numpy矩阵才能输入SVM\n",
    "X_all=np.array(X_all)\n",
    "X_test=np.array(X_test)\n",
    "X_train=np.array(X_train)\n",
    "\n",
    "Y1_all=np.array(Y1_all)\n",
    "Y1_test=np.array(Y1_test)\n",
    "Y1_train=np.array(Y1_train)\n",
    "\n",
    "Y2_all=np.array(Y2_all)\n",
    "Y2_test=np.array(Y2_test)\n",
    "Y2_train=np.array(Y2_train)"
   ]
  },
  {
   "cell_type": "code",
   "execution_count": 17,
   "metadata": {},
   "outputs": [],
   "source": [
    "##画图\n",
    "from matplotlib import  pyplot as plt\n",
    "plt.rcParams['font.sans-serif']=['SimHei'] #用来正常显示中文标签\n",
    "plt.rcParams['axes.unicode_minus']=False"
   ]
  },
  {
   "cell_type": "code",
   "execution_count": 18,
   "metadata": {},
   "outputs": [],
   "source": [
    "##计时\n",
    "import time"
   ]
  },
  {
   "cell_type": "markdown",
   "metadata": {},
   "source": [
    "# 1.使用knn进行分类"
   ]
  },
  {
   "cell_type": "code",
   "execution_count": 19,
   "metadata": {},
   "outputs": [
    {
     "name": "stderr",
     "output_type": "stream",
     "text": [
      "/home/harry/anaconda3/lib/python3.7/site-packages/sklearn/cross_validation.py:41: DeprecationWarning: This module was deprecated in version 0.18 in favor of the model_selection module into which all the refactored classes and functions are moved. Also note that the interface of the new CV iterators are different from that of this module. This module will be removed in 0.20.\n",
      "  \"This module will be removed in 0.20.\", DeprecationWarning)\n",
      "/home/harry/anaconda3/lib/python3.7/site-packages/sklearn/grid_search.py:42: DeprecationWarning: This module was deprecated in version 0.18 in favor of the model_selection module into which all the refactored classes and functions are moved. This module will be removed in 0.20.\n",
      "  DeprecationWarning)\n"
     ]
    }
   ],
   "source": [
    "from sklearn.neighbors import KNeighborsClassifier\n",
    "from sklearn.cross_validation import cross_val_score\n",
    "from sklearn.grid_search import GridSearchCV"
   ]
  },
  {
   "cell_type": "code",
   "execution_count": 20,
   "metadata": {},
   "outputs": [],
   "source": [
    "knn1=KNeighborsClassifier(n_neighbors=5)\n",
    "knn2=KNeighborsClassifier(n_neighbors=5)\n",
    "knn1_scores=cross_val_score(knn1,X_all,Y1_all,cv=5,scoring='accuracy')\n",
    "knn2_scores=cross_val_score(knn2,X_all,Y2_all,cv=5,scoring='accuracy')"
   ]
  },
  {
   "cell_type": "code",
   "execution_count": 21,
   "metadata": {},
   "outputs": [
    {
     "name": "stdout",
     "output_type": "stream",
     "text": [
      "[0.93233083 0.93233083 0.93939394 0.91603053 0.94656489] [0.80451128 0.81060606 0.8030303  0.79545455 0.77862595]\n"
     ]
    }
   ],
   "source": [
    "print(knn1_scores,knn2_scores)"
   ]
  },
  {
   "cell_type": "code",
   "execution_count": 22,
   "metadata": {},
   "outputs": [],
   "source": [
    "##调参范围\n",
    "k_list=[i+1  for i in range(40)]\n",
    "knn_param_templet = dict(n_neighbors=k_list, weights=['uniform','distance'])\n",
    "knn_param_invalid = dict(n_neighbors=k_list, weights=['uniform','distance'])"
   ]
  },
  {
   "cell_type": "code",
   "execution_count": 23,
   "metadata": {},
   "outputs": [
    {
     "data": {
      "text/plain": [
       "GridSearchCV(cv=5, error_score='raise',\n",
       "       estimator=KNeighborsClassifier(algorithm='auto', leaf_size=30, metric='minkowski',\n",
       "           metric_params=None, n_jobs=1, n_neighbors=5, p=2,\n",
       "           weights='uniform'),\n",
       "       fit_params={}, iid=True, n_jobs=-1,\n",
       "       param_grid={'n_neighbors': [1, 2, 3, 4, 5, 6, 7, 8, 9, 10, 11, 12, 13, 14, 15, 16, 17, 18, 19, 20, 21, 22, 23, 24, 25, 26, 27, 28, 29, 30, 31, 32, 33, 34, 35, 36, 37, 38, 39, 40], 'weights': ['uniform', 'distance']},\n",
       "       pre_dispatch='2*n_jobs', refit=True, scoring='accuracy', verbose=0)"
      ]
     },
     "execution_count": 23,
     "metadata": {},
     "output_type": "execute_result"
    }
   ],
   "source": [
    "knn1=KNeighborsClassifier(n_neighbors=5)\n",
    "knn2=KNeighborsClassifier(n_neighbors=5)\n",
    "##初始化训练网格\n",
    "knn1_grid=GridSearchCV(knn1,knn_param_templet,cv=5,scoring='accuracy',n_jobs=-1)\n",
    "knn2_grid=GridSearchCV(knn2,knn_param_invalid ,cv=5,scoring='accuracy',n_jobs=-1)\n",
    "##开始训练, 因为这里使用了自带的五叠交叉验证, 所以使用全部数据集来fit\n",
    "knn1_grid.fit(X_all,Y1_all)\n",
    "knn2_grid.fit(X_all,Y2_all)"
   ]
  },
  {
   "cell_type": "code",
   "execution_count": 24,
   "metadata": {},
   "outputs": [
    {
     "name": "stdout",
     "output_type": "stream",
     "text": [
      "The best params for knn1 is  {'n_neighbors': 6, 'weights': 'distance'} with its scores 0.9363636363636364\n",
      "The best params for knn2 is  {'n_neighbors': 15, 'weights': 'uniform'} with its scores 0.8121212121212121\n"
     ]
    }
   ],
   "source": [
    "print('The best params for knn1 is ',knn1_grid.best_params_ , 'with its scores',knn1_grid.best_score_)\n",
    "print('The best params for knn2 is ',knn2_grid.best_params_ , 'with its scores',knn2_grid.best_score_)"
   ]
  },
  {
   "cell_type": "code",
   "execution_count": 25,
   "metadata": {},
   "outputs": [
    {
     "data": {
      "text/plain": [
       "80"
      ]
     },
     "execution_count": 25,
     "metadata": {},
     "output_type": "execute_result"
    }
   ],
   "source": [
    "len(knn1_grid.grid_scores_)"
   ]
  },
  {
   "cell_type": "code",
   "execution_count": 26,
   "metadata": {},
   "outputs": [],
   "source": [
    "knn1_uniform_accuracy_list=[]\n",
    "knn2_uniform_accuracy_list=[]\n",
    "knn1_distance_accuracy_list=[]\n",
    "knn2_distance_accuracy_list=[]\n",
    "for i in range(int(len(knn1_grid.grid_scores_)/2)):\n",
    "    knn1_uniform_accuracy_list.append(knn1_grid.grid_scores_[2*i][1]*100)\n",
    "for i in range(int(len(knn1_grid.grid_scores_)/2)):\n",
    "    knn2_uniform_accuracy_list.append(knn2_grid.grid_scores_[2*i][1]*100)\n",
    "for i in range(int(len(knn1_grid.grid_scores_)/2)):\n",
    "    knn1_distance_accuracy_list.append(knn1_grid.grid_scores_[2*i+1][1]*100)\n",
    "for i in range(int(len(knn1_grid.grid_scores_)/2)):\n",
    "    knn2_distance_accuracy_list.append(knn2_grid.grid_scores_[2*i+1][1]*100)"
   ]
  },
  {
   "cell_type": "code",
   "execution_count": 27,
   "metadata": {},
   "outputs": [
    {
     "name": "stderr",
     "output_type": "stream",
     "text": [
      "/home/harry/anaconda3/lib/python3.7/site-packages/matplotlib/font_manager.py:1331: UserWarning: findfont: Font family ['sans-serif'] not found. Falling back to DejaVu Sans\n",
      "  (prop.get_family(), self.defaultFamily[fontext]))\n"
     ]
    },
    {
     "data": {
      "image/png": "[encoded data removed]",
      "text/plain": [
       "<Figure size 432x288 with 1 Axes>"
      ]
     },
     "metadata": {
      "needs_background": "light"
     },
     "output_type": "display_data"
    }
   ],
   "source": [
    "plt.plot(k_list,knn1_uniform_accuracy_list,'o-',label='模板评论分类准确率uniform')\n",
    "plt.plot(k_list,knn2_uniform_accuracy_list,'o-',label='水评分类准确率uniform')\n",
    "plt.plot(k_list,knn1_distance_accuracy_list,'o-',label='模板评论分类准确率distance')\n",
    "plt.plot(k_list,knn2_distance_accuracy_list,'o-',label='水评分类准确率distance')\n",
    "plt.xlabel('k neighbours')\n",
    "plt.ylabel('accuracy')\n",
    "plt.title('KNN分类准确率与参数k的关系')\n",
    "plt.savefig('figure/KNN分类准确率与参数k的关系', dpi=300)\n",
    "plt.grid()\n",
    "plt.legend()\n",
    "plt.show()"
   ]
  },
  {
   "cell_type": "code",
   "execution_count": 28,
   "metadata": {},
   "outputs": [],
   "source": [
    "#备用来尝试\n",
    "#knn1_grid.predict()"
   ]
  },
  {
   "cell_type": "markdown",
   "metadata": {},
   "source": [
    "# 2.使用SVM分类器进行分类"
   ]
  },
  {
   "cell_type": "code",
   "execution_count": 29,
   "metadata": {},
   "outputs": [],
   "source": [
    "from sklearn.svm import SVC\n",
    "svm1=SVC()#模板评论分类器\n",
    "svm2=SVC()#水评分类器\n",
    "svm1_scores=cross_val_score(svm1,X_all,Y1_all,cv=5,scoring='accuracy')\n",
    "svm2_scores=cross_val_score(svm2,X_all,Y2_all,cv=5,scoring='accuracy')"
   ]
  },
  {
   "cell_type": "code",
   "execution_count": 30,
   "metadata": {},
   "outputs": [],
   "source": [
    "svm1_param_templet = [{'kernel': ['rbf'] ,  'gamma' : [1e-3, 1e-4]  ,  'C': [1,10,100]},\n",
    "                                           { 'kernel': ['linear'] ,   'C': [1,10,100]}]\n",
    "svm2_parameters_invalid = [{'kernel': ['rbf'] ,  'gamma' : [1e-3,1e-4]  ,  'C': [1,10,100]},\n",
    "                                           { 'kernel': ['linear'] , 'C': [1,10,100]}]"
   ]
  },
  {
   "cell_type": "code",
   "execution_count": 31,
   "metadata": {},
   "outputs": [
    {
     "data": {
      "text/plain": [
       "GridSearchCV(cv=2, error_score='raise',\n",
       "       estimator=SVC(C=1.0, cache_size=200, class_weight=None, coef0=0.0,\n",
       "  decision_function_shape='ovr', degree=3, gamma='auto', kernel='rbf',\n",
       "  max_iter=-1, probability=False, random_state=None, shrinking=True,\n",
       "  tol=0.001, verbose=False),\n",
       "       fit_params={}, iid=True, n_jobs=-1,\n",
       "       param_grid=[{'kernel': ['rbf'], 'gamma': [0.001, 0.0001], 'C': [1, 10, 100]}, {'kernel': ['linear'], 'C': [1, 10, 100]}],\n",
       "       pre_dispatch='2*n_jobs', refit=True, scoring='accuracy', verbose=0)"
      ]
     },
     "execution_count": 31,
     "metadata": {},
     "output_type": "execute_result"
    }
   ],
   "source": [
    "##初始化训练网格\n",
    "svm1_grid=GridSearchCV(svm1,svm1_param_templet,cv=2,scoring='accuracy',n_jobs=-1)\n",
    "svm2_grid=GridSearchCV(svm2,svm2_parameters_invalid ,cv=2,scoring='accuracy',n_jobs=-1)\n",
    "##开始训练, 因为这里使用了自带的五叠交叉验证, 所以使用全部数据集来fit\n",
    "svm1_grid.fit(X_all,Y1_all)\n",
    "svm2_grid.fit(X_all,Y2_all)"
   ]
  },
  {
   "cell_type": "code",
   "execution_count": 32,
   "metadata": {},
   "outputs": [
    {
     "data": {
      "text/plain": [
       "[mean: 0.92576, std: 0.00758, params: {'C': 1, 'gamma': 0.001, 'kernel': 'rbf'},\n",
       " mean: 0.93485, std: 0.00152, params: {'C': 1, 'gamma': 0.0001, 'kernel': 'rbf'},\n",
       " mean: 0.91667, std: 0.01061, params: {'C': 10, 'gamma': 0.001, 'kernel': 'rbf'},\n",
       " mean: 0.93636, std: 0.00606, params: {'C': 10, 'gamma': 0.0001, 'kernel': 'rbf'},\n",
       " mean: 0.91364, std: 0.01364, params: {'C': 100, 'gamma': 0.001, 'kernel': 'rbf'},\n",
       " mean: 0.92576, std: 0.00152, params: {'C': 100, 'gamma': 0.0001, 'kernel': 'rbf'},\n",
       " mean: 0.90758, std: 0.01970, params: {'C': 1, 'kernel': 'linear'},\n",
       " mean: 0.91061, std: 0.01364, params: {'C': 10, 'kernel': 'linear'},\n",
       " mean: 0.92121, std: 0.01515, params: {'C': 100, 'kernel': 'linear'}]"
      ]
     },
     "execution_count": 32,
     "metadata": {},
     "output_type": "execute_result"
    }
   ],
   "source": [
    "svm1_grid.grid_scores_"
   ]
  },
  {
   "cell_type": "code",
   "execution_count": 33,
   "metadata": {},
   "outputs": [
    {
     "data": {
      "text/plain": [
       "{'C': 10, 'gamma': 0.0001, 'kernel': 'rbf'}"
      ]
     },
     "execution_count": 33,
     "metadata": {},
     "output_type": "execute_result"
    }
   ],
   "source": [
    "svm1_grid.best_params_"
   ]
  },
  {
   "cell_type": "code",
   "execution_count": 34,
   "metadata": {},
   "outputs": [
    {
     "data": {
      "text/plain": [
       "[mean: 0.79242, std: 0.00392, params: {'C': 1, 'gamma': 0.001, 'kernel': 'rbf'},\n",
       " mean: 0.80606, std: 0.01271, params: {'C': 1, 'gamma': 0.0001, 'kernel': 'rbf'},\n",
       " mean: 0.82273, std: 0.01417, params: {'C': 10, 'gamma': 0.001, 'kernel': 'rbf'},\n",
       " mean: 0.80606, std: 0.00362, params: {'C': 10, 'gamma': 0.0001, 'kernel': 'rbf'},\n",
       " mean: 0.80000, std: 0.00061, params: {'C': 100, 'gamma': 0.001, 'kernel': 'rbf'},\n",
       " mean: 0.79848, std: 0.00213, params: {'C': 100, 'gamma': 0.0001, 'kernel': 'rbf'},\n",
       " mean: 0.80152, std: 0.01727, params: {'C': 1, 'kernel': 'linear'},\n",
       " mean: 0.78636, std: 0.02034, params: {'C': 10, 'kernel': 'linear'},\n",
       " mean: 0.79242, std: 0.01730, params: {'C': 100, 'kernel': 'linear'}]"
      ]
     },
     "execution_count": 34,
     "metadata": {},
     "output_type": "execute_result"
    }
   ],
   "source": [
    "svm2_grid.grid_scores_"
   ]
  },
  {
   "cell_type": "code",
   "execution_count": 35,
   "metadata": {},
   "outputs": [
    {
     "data": {
      "text/plain": [
       "{'C': 10, 'gamma': 0.001, 'kernel': 'rbf'}"
      ]
     },
     "execution_count": 35,
     "metadata": {},
     "output_type": "execute_result"
    }
   ],
   "source": [
    "svm2_grid.best_params_"
   ]
  },
  {
   "cell_type": "code",
   "execution_count": 36,
   "metadata": {},
   "outputs": [
    {
     "data": {
      "text/plain": [
       "GridSearchCV(cv=4, error_score='raise',\n",
       "       estimator=SVC(C=1.0, cache_size=200, class_weight=None, coef0=0.0,\n",
       "  decision_function_shape='ovr', degree=3, gamma='auto', kernel='rbf',\n",
       "  max_iter=-1, probability=False, random_state=None, shrinking=True,\n",
       "  tol=0.001, verbose=False),\n",
       "       fit_params={}, iid=True, n_jobs=-1,\n",
       "       param_grid=[{'kernel': ['rbf'], 'gamma': [0.0001], 'C': [50, 100, 150]}],\n",
       "       pre_dispatch='2*n_jobs', refit=True, scoring='accuracy', verbose=0)"
      ]
     },
     "execution_count": 36,
     "metadata": {},
     "output_type": "execute_result"
    }
   ],
   "source": [
    "##网格调参第二次\n",
    "svm1_param_templet = [{'kernel': ['rbf'] ,  'gamma' : [0.0001]  ,  'C': [1,5,10]}]\n",
    "svm2_parameters_invalid = [{'kernel': ['rbf'] ,  'gamma' : [0.0001]  ,  'C': [50,100,150]}]\n",
    "##初始化训练网格\n",
    "svm1_grid=GridSearchCV(svm1,svm1_param_templet,cv=4,scoring='accuracy',n_jobs=-1)\n",
    "svm2_grid=GridSearchCV(svm2,svm2_parameters_invalid ,cv=4,scoring='accuracy',n_jobs=-1)\n",
    "##开始训练, 因为这里使用了自带的五叠交叉验证, 所以使用全部数据集来fit\n",
    "svm1_grid.fit(X_all,Y1_all)\n",
    "svm2_grid.fit(X_all,Y2_all)"
   ]
  },
  {
   "cell_type": "code",
   "execution_count": 37,
   "metadata": {},
   "outputs": [
    {
     "data": {
      "text/plain": [
       "[mean: 0.79848, std: 0.02195, params: {'C': 50, 'gamma': 0.0001, 'kernel': 'rbf'},\n",
       " mean: 0.80303, std: 0.02240, params: {'C': 100, 'gamma': 0.0001, 'kernel': 'rbf'},\n",
       " mean: 0.80606, std: 0.02546, params: {'C': 150, 'gamma': 0.0001, 'kernel': 'rbf'}]"
      ]
     },
     "execution_count": 37,
     "metadata": {},
     "output_type": "execute_result"
    }
   ],
   "source": [
    "svm2_grid.grid_scores_"
   ]
  },
  {
   "cell_type": "code",
   "execution_count": 38,
   "metadata": {},
   "outputs": [
    {
     "data": {
      "text/plain": [
       "3"
      ]
     },
     "execution_count": 38,
     "metadata": {},
     "output_type": "execute_result"
    }
   ],
   "source": [
    "len(svm2_grid.grid_scores_)"
   ]
  },
  {
   "cell_type": "code",
   "execution_count": 39,
   "metadata": {},
   "outputs": [
    {
     "data": {
      "text/plain": [
       "GridSearchCV(cv=3, error_score='raise',\n",
       "       estimator=SVC(C=1.0, cache_size=200, class_weight=None, coef0=0.0,\n",
       "  decision_function_shape='ovr', degree=3, gamma='auto', kernel='rbf',\n",
       "  max_iter=-1, probability=False, random_state=None, shrinking=True,\n",
       "  tol=0.001, verbose=False),\n",
       "       fit_params={}, iid=True, n_jobs=-1,\n",
       "       param_grid=[{'kernel': ['rbf'], 'gamma': [0.0001], 'C': [50, 65, 80, 95, 110, 125, 140]}],\n",
       "       pre_dispatch='2*n_jobs', refit=True, scoring='accuracy', verbose=0)"
      ]
     },
     "execution_count": 39,
     "metadata": {},
     "output_type": "execute_result"
    }
   ],
   "source": [
    "svm1_c_list=[i for i in range(1,12,2)]\n",
    "svm2_c_list=[i for i in range(50,150,15)]\n",
    "##网格调参第三次\n",
    "svm1_param_templet = [{'kernel': ['rbf'] ,  'gamma' : [0.0001]  ,  'C':svm1_c_list}]\n",
    "svm2_parameters_invalid = [{'kernel': ['rbf'] ,  'gamma' : [0.0001]  ,  'C': svm2_c_list}]\n",
    "##初始化训练网格\n",
    "svm1_grid=GridSearchCV(svm1,svm1_param_templet,cv=3,scoring='accuracy',n_jobs=-1)\n",
    "svm2_grid=GridSearchCV(svm2,svm2_parameters_invalid ,cv=3,scoring='accuracy',n_jobs=-1)\n",
    "##开始训练, 因为这里使用了自带的五叠交叉验证, 所以使用全部数据集来fit\n",
    "svm1_grid.fit(X_all,Y1_all)\n",
    "svm2_grid.fit(X_all,Y2_all)"
   ]
  },
  {
   "cell_type": "code",
   "execution_count": 40,
   "metadata": {},
   "outputs": [],
   "source": [
    "svm1_accuracy_list=[]\n",
    "svm2_accuracy_list=[]\n",
    "for i in range(int(len(svm1_grid.grid_scores_))):\n",
    "    svm1_accuracy_list.append(svm1_grid.grid_scores_[i][1]*100)\n",
    "for i in range(int(len(svm2_grid.grid_scores_))):\n",
    "    svm2_accuracy_list.append(svm2_grid.grid_scores_[i][1]*100)\n"
   ]
  },
  {
   "cell_type": "code",
   "execution_count": 41,
   "metadata": {},
   "outputs": [
    {
     "data": {
      "text/plain": [
       "[80.45454545454545,\n",
       " 80.15151515151516,\n",
       " 80.0,\n",
       " 79.84848484848484,\n",
       " 79.84848484848484,\n",
       " 80.15151515151516,\n",
       " 80.15151515151516]"
      ]
     },
     "execution_count": 41,
     "metadata": {},
     "output_type": "execute_result"
    }
   ],
   "source": [
    "svm2_accuracy_list"
   ]
  },
  {
   "cell_type": "code",
   "execution_count": 42,
   "metadata": {},
   "outputs": [
    {
     "data": {
      "text/plain": [
       "[50, 65, 80, 95, 110, 125, 140]"
      ]
     },
     "execution_count": 42,
     "metadata": {},
     "output_type": "execute_result"
    }
   ],
   "source": [
    "svm2_c_list"
   ]
  },
  {
   "cell_type": "code",
   "execution_count": 43,
   "metadata": {
    "scrolled": true
   },
   "outputs": [
    {
     "name": "stderr",
     "output_type": "stream",
     "text": [
      "/home/harry/anaconda3/lib/python3.7/site-packages/matplotlib/font_manager.py:1331: UserWarning: findfont: Font family ['sans-serif'] not found. Falling back to DejaVu Sans\n",
      "  (prop.get_family(), self.defaultFamily[fontext]))\n"
     ]
    },
    {
     "data": {
      "image/png": "[encoded data removed]",
      "text/plain": [
       "<Figure size 432x288 with 1 Axes>"
      ]
     },
     "metadata": {
      "needs_background": "light"
     },
     "output_type": "display_data"
    }
   ],
   "source": [
    "plt.plot(svm1_c_list,svm1_accuracy_list,'o-',label='模板评论分类准确率')\n",
    "#plt.plot(svm2_c_list,svm2_accuracy_list,'o-',label='水评分类准确率')\n",
    "plt.xlabel('c')\n",
    "plt.ylabel('accuracy')\n",
    "plt.title('SVM分类准确率与参数c的关系')\n",
    "plt.savefig('figure/SVM分类准确率与参数c的关系', dpi=300)\n",
    "plt.grid()\n",
    "plt.legend()\n",
    "plt.show()"
   ]
  },
  {
   "cell_type": "code",
   "execution_count": 44,
   "metadata": {},
   "outputs": [
    {
     "name": "stderr",
     "output_type": "stream",
     "text": [
      "/home/harry/anaconda3/lib/python3.7/site-packages/matplotlib/font_manager.py:1331: UserWarning: findfont: Font family ['sans-serif'] not found. Falling back to DejaVu Sans\n",
      "  (prop.get_family(), self.defaultFamily[fontext]))\n"
     ]
    },
    {
     "data": {
      "image/png": "[encoded data removed]",
      "text/plain": [
       "<Figure size 432x288 with 1 Axes>"
      ]
     },
     "metadata": {
      "needs_background": "light"
     },
     "output_type": "display_data"
    }
   ],
   "source": [
    "plt.plot(svm2_c_list,svm2_accuracy_list,'o-',label='水评分类准确率')\n",
    "plt.xlabel('c')\n",
    "plt.ylabel('accuracy')\n",
    "plt.grid()\n",
    "plt.legend()\n",
    "plt.show()"
   ]
  },
  {
   "cell_type": "markdown",
   "metadata": {},
   "source": [
    "# 3.使用朴素贝叶斯分类"
   ]
  },
  {
   "cell_type": "code",
   "execution_count": 45,
   "metadata": {},
   "outputs": [
    {
     "name": "stdout",
     "output_type": "stream",
     "text": [
      "两种分类器的分类错误量 12 37\n",
      "两种分类器的分类错误率 0.075 0.23125\n"
     ]
    }
   ],
   "source": [
    "from sklearn.naive_bayes import GaussianNB\n",
    "gnb1=GaussianNB()\n",
    "gnb2=GaussianNB()\n",
    "gnb1.fit(X_train,Y1_train)\n",
    "gnb2.fit(X_train,Y2_train)\n",
    "bayes_Y1 = gnb1.predict(X_test)\n",
    "bayes_Y2 = gnb2.predict(X_test)\n",
    "print('两种分类器的分类错误量',(bayes_Y1 != Y1_test).sum(),(bayes_Y2 != Y2_test).sum())\n",
    "print('两种分类器的分类错误率',(bayes_Y1 != Y1_test).sum()/len(Y1_test),(bayes_Y2 != Y2_test).sum()/len(Y2_test))"
   ]
  },
  {
   "cell_type": "markdown",
   "metadata": {},
   "source": [
    "# 4.使用Logistic分类器"
   ]
  },
  {
   "cell_type": "code",
   "execution_count": 46,
   "metadata": {},
   "outputs": [
    {
     "data": {
      "text/plain": [
       "0.925"
      ]
     },
     "execution_count": 46,
     "metadata": {},
     "output_type": "execute_result"
    }
   ],
   "source": [
    "from sklearn.linear_model import LogisticRegression\n",
    "clf = LogisticRegression(random_state=0, solver='lbfgs').fit(X_train, Y1_train)\n",
    "clf.score(X_test, Y1_test)"
   ]
  },
  {
   "cell_type": "code",
   "execution_count": 47,
   "metadata": {},
   "outputs": [],
   "source": [
    "log1=LogisticRegression()"
   ]
  },
  {
   "cell_type": "code",
   "execution_count": 48,
   "metadata": {},
   "outputs": [
    {
     "data": {
      "text/plain": [
       "GridSearchCV(cv=6, error_score='raise',\n",
       "       estimator=LogisticRegression(C=1.0, class_weight=None, dual=False, fit_intercept=True,\n",
       "          intercept_scaling=1, max_iter=100, multi_class='ovr', n_jobs=1,\n",
       "          penalty='l2', random_state=None, solver='liblinear', tol=0.0001,\n",
       "          verbose=0, warm_start=False),\n",
       "       fit_params={}, iid=True, n_jobs=-1,\n",
       "       param_grid=[{'solver': ['newton-cg', 'lbfgs', 'liblinear', 'sag', 'saga'], 'penalty': ['l2'], 'max_iter': [100000, 10000]}, {'penalty': ['l1'], 'max_iter': [100000, 10000]}],\n",
       "       pre_dispatch='2*n_jobs', refit=True, scoring='accuracy', verbose=0)"
      ]
     },
     "execution_count": 48,
     "metadata": {},
     "output_type": "execute_result"
    }
   ],
   "source": [
    "solver_options=['newton-cg', 'lbfgs', 'liblinear', 'sag','saga']\n",
    "log1_param_templet = [{'solver': solver_options , 'penalty' : ['l2'],\"max_iter\":[int(1e5),int(1e4) ]},\n",
    "                                           {'penalty' : ['l1'] ,  \"max_iter\":[int(1e5),int(1e4) ]}]\n",
    "log1_grid=GridSearchCV(log1,log1_param_templet,cv=6,scoring='accuracy',n_jobs=-1)\n",
    "log1_grid.fit(X_all,Y1_all)"
   ]
  },
  {
   "cell_type": "code",
   "execution_count": 49,
   "metadata": {},
   "outputs": [
    {
     "data": {
      "text/plain": [
       "GridSearchCV(cv=6, error_score='raise',\n",
       "       estimator=LogisticRegression(C=1.0, class_weight=None, dual=False, fit_intercept=True,\n",
       "          intercept_scaling=1, max_iter=100, multi_class='ovr', n_jobs=1,\n",
       "          penalty='l2', random_state=None, solver='liblinear', tol=0.0001,\n",
       "          verbose=0, warm_start=False),\n",
       "       fit_params={}, iid=True, n_jobs=-1,\n",
       "       param_grid=[{'solver': ['newton-cg', 'lbfgs', 'liblinear', 'sag', 'saga'], 'penalty': ['l2'], 'max_iter': [100000, 10000]}, {'penalty': ['l1'], 'max_iter': [100000, 10000]}],\n",
       "       pre_dispatch='2*n_jobs', refit=True, scoring='accuracy', verbose=0)"
      ]
     },
     "execution_count": 49,
     "metadata": {},
     "output_type": "execute_result"
    }
   ],
   "source": [
    "log2=LogisticRegression()\n",
    "log2_parameters_invalid =[{'solver': solver_options , 'penalty' : ['l2'],\"max_iter\":[int(1e5),int(1e4) ]},\n",
    "                                           {'penalty' : ['l1'] ,  \"max_iter\":[int(1e5),int(1e4) ]}]\n",
    "log2_grid=GridSearchCV(log2,log2_parameters_invalid ,cv=6,scoring='accuracy',n_jobs=-1)\n",
    "log2_grid.fit(X_all,Y2_all)"
   ]
  },
  {
   "cell_type": "code",
   "execution_count": 50,
   "metadata": {},
   "outputs": [
    {
     "data": {
      "text/plain": [
       "[mean: 0.93485, std: 0.00625, params: {'max_iter': 100000, 'penalty': 'l2', 'solver': 'newton-cg'},\n",
       " mean: 0.93485, std: 0.00625, params: {'max_iter': 100000, 'penalty': 'l2', 'solver': 'lbfgs'},\n",
       " mean: 0.93636, std: 0.00742, params: {'max_iter': 100000, 'penalty': 'l2', 'solver': 'liblinear'},\n",
       " mean: 0.91061, std: 0.02313, params: {'max_iter': 100000, 'penalty': 'l2', 'solver': 'sag'},\n",
       " mean: 0.90606, std: 0.02761, params: {'max_iter': 100000, 'penalty': 'l2', 'solver': 'saga'},\n",
       " mean: 0.93485, std: 0.00625, params: {'max_iter': 10000, 'penalty': 'l2', 'solver': 'newton-cg'},\n",
       " mean: 0.93485, std: 0.00625, params: {'max_iter': 10000, 'penalty': 'l2', 'solver': 'lbfgs'},\n",
       " mean: 0.93636, std: 0.00742, params: {'max_iter': 10000, 'penalty': 'l2', 'solver': 'liblinear'},\n",
       " mean: 0.91061, std: 0.02313, params: {'max_iter': 10000, 'penalty': 'l2', 'solver': 'sag'},\n",
       " mean: 0.90606, std: 0.02761, params: {'max_iter': 10000, 'penalty': 'l2', 'solver': 'saga'},\n",
       " mean: 0.93485, std: 0.01330, params: {'max_iter': 100000, 'penalty': 'l1'},\n",
       " mean: 0.93485, std: 0.01330, params: {'max_iter': 10000, 'penalty': 'l1'}]"
      ]
     },
     "execution_count": 50,
     "metadata": {},
     "output_type": "execute_result"
    }
   ],
   "source": [
    "log1_grid.grid_scores_"
   ]
  },
  {
   "cell_type": "code",
   "execution_count": 51,
   "metadata": {},
   "outputs": [
    {
     "data": {
      "text/plain": [
       "{'max_iter': 100000, 'penalty': 'l2', 'solver': 'liblinear'}"
      ]
     },
     "execution_count": 51,
     "metadata": {},
     "output_type": "execute_result"
    }
   ],
   "source": [
    "log1_grid.best_params_"
   ]
  },
  {
   "cell_type": "code",
   "execution_count": 52,
   "metadata": {},
   "outputs": [
    {
     "data": {
      "text/plain": [
       "{'max_iter': 100000, 'penalty': 'l2', 'solver': 'sag'}"
      ]
     },
     "execution_count": 52,
     "metadata": {},
     "output_type": "execute_result"
    }
   ],
   "source": [
    "log2_grid.best_params_"
   ]
  },
  {
   "cell_type": "code",
   "execution_count": 53,
   "metadata": {},
   "outputs": [
    {
     "name": "stdout",
     "output_type": "stream",
     "text": [
      "0.9363636363636365\n"
     ]
    }
   ],
   "source": [
    "logclf=LogisticRegression()\n",
    "scores=cross_val_score(logclf,X_all,Y1_all,cv=6,scoring='accuracy')\n",
    "print(scores.mean())"
   ]
  },
  {
   "cell_type": "markdown",
   "metadata": {},
   "source": [
    "# 5.使用决策树分类"
   ]
  },
  {
   "cell_type": "code",
   "execution_count": 54,
   "metadata": {},
   "outputs": [
    {
     "name": "stdout",
     "output_type": "stream",
     "text": [
      "0.8954841997429381\n",
      "0.7544822326461539\n"
     ]
    }
   ],
   "source": [
    "from sklearn.tree import DecisionTreeClassifier\n",
    "clf1=DecisionTreeClassifier()\n",
    "clf2=DecisionTreeClassifier()\n",
    "DT1_scores=cross_val_score(clf1,X_all,Y1_all,cv=5,scoring='accuracy')\n",
    "DT2_scores=cross_val_score(clf2,X_all,Y2_all,cv=5,scoring='accuracy')\n",
    "print(DT1_scores.mean())#一般准确率\n",
    "print(DT2_scores.mean())"
   ]
  },
  {
   "cell_type": "code",
   "execution_count": 55,
   "metadata": {
    "scrolled": true
   },
   "outputs": [
    {
     "data": {
      "text/plain": [
       "GridSearchCV(cv=5, error_score='raise',\n",
       "       estimator=DecisionTreeClassifier(class_weight=None, criterion='gini', max_depth=None,\n",
       "            max_features=None, max_leaf_nodes=None,\n",
       "            min_impurity_decrease=0.0, min_impurity_split=None,\n",
       "            min_samples_leaf=1, min_samples_split=2,\n",
       "            min_weight_fraction_leaf=0.0, presort=False, random_state=None,\n",
       "            splitter='best'),\n",
       "       fit_params={}, iid=True, n_jobs=-1,\n",
       "       param_grid=[{'max_features': [10, 11, 12, 13, 14, 15, 16, 17, 18, 19, 20, 21, 22, 23, 24, 25, 26, 27, 28, 29]}],\n",
       "       pre_dispatch='2*n_jobs', refit=True, scoring='accuracy', verbose=0)"
      ]
     },
     "execution_count": 55,
     "metadata": {},
     "output_type": "execute_result"
    }
   ],
   "source": [
    "from sklearn.preprocessing import MinMaxScaler\n",
    "import numpy as np\n",
    "#训练\n",
    "from sklearn.tree import DecisionTreeClassifier\n",
    "Dtree1=DecisionTreeClassifier()\n",
    "Dtree2=DecisionTreeClassifier()\n",
    "#Dtree1.fit(SVM_dataSet_transformed, SVM_Y1label)\n",
    "#Dtree2=DecisionTreeClassifier()\n",
    "#Dtree2.fit(SVM_dataSet_transformed, SVM_Y2label)\n",
    "##参数设定\n",
    "Dtree1_param_templet = [{'max_features' :[i for i in range(10,30)]}]                                         \n",
    "Dtree1_grid=GridSearchCV(Dtree1,Dtree1_param_templet,cv=5,scoring='accuracy',n_jobs=-1)\n",
    "Dtree1_grid.fit(X_all,Y1_all)\n",
    "Dtree2_param_templet = [{'max_features' :[i for i in range(10,30)]}]                                         \n",
    "Dtree2_grid=GridSearchCV(Dtree2,Dtree2_param_templet,cv=5,scoring='accuracy',n_jobs=-1)\n",
    "Dtree2_grid.fit(X_all,Y2_all)\n"
   ]
  },
  {
   "cell_type": "code",
   "execution_count": 56,
   "metadata": {},
   "outputs": [
    {
     "name": "stderr",
     "output_type": "stream",
     "text": [
      "/home/harry/anaconda3/lib/python3.7/site-packages/matplotlib/font_manager.py:1331: UserWarning: findfont: Font family ['sans-serif'] not found. Falling back to DejaVu Sans\n",
      "  (prop.get_family(), self.defaultFamily[fontext]))\n"
     ]
    },
    {
     "data": {
      "image/png": "[encoded data removed]",
      "text/plain": [
       "<Figure size 432x288 with 1 Axes>"
      ]
     },
     "metadata": {
      "needs_background": "light"
     },
     "output_type": "display_data"
    }
   ],
   "source": [
    "Dtree1_defult_mf_accuracy_list=[]\n",
    "Dtree2_defult_mf_accuracy_list=[]\n",
    "for i in range(int(len(Dtree1_grid.grid_scores_))):\n",
    "    Dtree1_defult_mf_accuracy_list.append(Dtree1_grid.grid_scores_[i][1]*100)\n",
    "for i in range(int(len(Dtree2_grid.grid_scores_))):\n",
    "    Dtree2_defult_mf_accuracy_list.append(Dtree2_grid.grid_scores_[i][1]*100)\n",
    "plt.plot([i for i in range(10,30)],Dtree1_defult_mf_accuracy_list,'o-',label='模板评论分类准确率')\n",
    "plt.plot([i for i in range(10,30)],Dtree2_defult_mf_accuracy_list,'o-',label='水评分类准确率')\n",
    "plt.xlabel('最大选取特征数量')\n",
    "plt.ylabel('accuracy')\n",
    "plt.title('默认最大树深度下最大选取特征数量与准确率的关系')\n",
    "plt.savefig('figure/决策树：默认最大树深度下最大选取特征数量与准确率的关系' ,dpi=300)\n",
    "plt.grid()\n",
    "plt.legend()\n",
    "plt.show()"
   ]
  },
  {
   "cell_type": "code",
   "execution_count": 57,
   "metadata": {},
   "outputs": [
    {
     "data": {
      "text/plain": [
       "GridSearchCV(cv=5, error_score='raise',\n",
       "       estimator=DecisionTreeClassifier(class_weight=None, criterion='gini', max_depth=None,\n",
       "            max_features=None, max_leaf_nodes=None,\n",
       "            min_impurity_decrease=0.0, min_impurity_split=None,\n",
       "            min_samples_leaf=1, min_samples_split=2,\n",
       "            min_weight_fraction_leaf=0.0, presort=False, random_state=None,\n",
       "            splitter='best'),\n",
       "       fit_params={}, iid=True, n_jobs=-1,\n",
       "       param_grid=[{'max_depth': [1, 2, 3, 4, 5, 6, 7, 8, 9, 10, 11, 12, 13, 14, 15, 16, 17, 18, 19]}],\n",
       "       pre_dispatch='2*n_jobs', refit=True, scoring='accuracy', verbose=0)"
      ]
     },
     "execution_count": 57,
     "metadata": {},
     "output_type": "execute_result"
    }
   ],
   "source": [
    "Dtree1=DecisionTreeClassifier()\n",
    "Dtree2=DecisionTreeClassifier()\n",
    "##参数设定，最大树深度从1-20\n",
    "Dtree1_param_templet = [{'max_depth': [i for i in range(1,20)]} ]\n",
    "Dtree1_grid=GridSearchCV(Dtree1,Dtree1_param_templet,cv=5,scoring='accuracy',n_jobs=-1)\n",
    "Dtree1_grid.fit(X_all,Y1_all)\n",
    "Dtree2_param_templet =[{'max_depth': [i for i in range(1,20)]} ]                                     \n",
    "Dtree2_grid=GridSearchCV(Dtree2,Dtree2_param_templet,cv=5,scoring='accuracy',n_jobs=-1)\n",
    "Dtree2_grid.fit(X_all,Y2_all)\n"
   ]
  },
  {
   "cell_type": "code",
   "execution_count": 86,
   "metadata": {},
   "outputs": [
    {
     "data": {
      "text/plain": [
       "{'max_depth': 2}"
      ]
     },
     "execution_count": 86,
     "metadata": {},
     "output_type": "execute_result"
    }
   ],
   "source": [
    "Dtree1_grid.best_params_"
   ]
  },
  {
   "cell_type": "code",
   "execution_count": 87,
   "metadata": {},
   "outputs": [
    {
     "data": {
      "text/plain": [
       "{'max_depth': 3}"
      ]
     },
     "execution_count": 87,
     "metadata": {},
     "output_type": "execute_result"
    }
   ],
   "source": [
    "Dtree2_grid.best_params_"
   ]
  },
  {
   "cell_type": "code",
   "execution_count": 58,
   "metadata": {},
   "outputs": [
    {
     "data": {
      "text/plain": [
       "[mean: 0.91515, std: 0.00929, params: {'max_depth': 1},\n",
       " mean: 0.92273, std: 0.01318, params: {'max_depth': 2},\n",
       " mean: 0.91818, std: 0.01733, params: {'max_depth': 3},\n",
       " mean: 0.91061, std: 0.01782, params: {'max_depth': 4},\n",
       " mean: 0.90455, std: 0.01749, params: {'max_depth': 5},\n",
       " mean: 0.90000, std: 0.01626, params: {'max_depth': 6},\n",
       " mean: 0.89697, std: 0.01582, params: {'max_depth': 7},\n",
       " mean: 0.89394, std: 0.01016, params: {'max_depth': 8},\n",
       " mean: 0.89848, std: 0.00911, params: {'max_depth': 9},\n",
       " mean: 0.89697, std: 0.01421, params: {'max_depth': 10},\n",
       " mean: 0.88939, std: 0.00743, params: {'max_depth': 11},\n",
       " mean: 0.88636, std: 0.01383, params: {'max_depth': 12},\n",
       " mean: 0.89848, std: 0.01734, params: {'max_depth': 13},\n",
       " mean: 0.90000, std: 0.02089, params: {'max_depth': 14},\n",
       " mean: 0.90303, std: 0.01641, params: {'max_depth': 15},\n",
       " mean: 0.89242, std: 0.01049, params: {'max_depth': 16},\n",
       " mean: 0.89697, std: 0.00763, params: {'max_depth': 17},\n",
       " mean: 0.89545, std: 0.01475, params: {'max_depth': 18},\n",
       " mean: 0.88939, std: 0.00743, params: {'max_depth': 19}]"
      ]
     },
     "execution_count": 58,
     "metadata": {},
     "output_type": "execute_result"
    }
   ],
   "source": [
    "Dtree1_grid.grid_scores_"
   ]
  },
  {
   "cell_type": "code",
   "execution_count": 59,
   "metadata": {},
   "outputs": [
    {
     "name": "stderr",
     "output_type": "stream",
     "text": [
      "/home/harry/anaconda3/lib/python3.7/site-packages/matplotlib/font_manager.py:1331: UserWarning: findfont: Font family ['sans-serif'] not found. Falling back to DejaVu Sans\n",
      "  (prop.get_family(), self.defaultFamily[fontext]))\n"
     ]
    },
    {
     "data": {
      "image/png": "[encoded data removed]",
      "text/plain": [
       "<Figure size 432x288 with 1 Axes>"
      ]
     },
     "metadata": {
      "needs_background": "light"
     },
     "output_type": "display_data"
    }
   ],
   "source": [
    "Dtree1_md_accuracy_list=[]\n",
    "Dtree2_md_accuracy_list=[]\n",
    "for i in range(int(len(Dtree1_grid.grid_scores_))):\n",
    "    Dtree1_md_accuracy_list.append(Dtree1_grid.grid_scores_[i][1]*100)\n",
    "for i in range(int(len(Dtree2_grid.grid_scores_))):\n",
    "    Dtree2_md_accuracy_list.append(Dtree2_grid.grid_scores_[i][1]*100)\n",
    "plt.plot([i for i in range(1,20)],Dtree1_md_accuracy_list,'o-',label='模板评论分类准确率')\n",
    "plt.plot([i for i in range(1,20)],Dtree2_md_accuracy_list,'o-',label='水评分类准确率')\n",
    "plt.xlabel('最大树深度')\n",
    "plt.ylabel('accuracy')\n",
    "plt.title('默认最大特征量下最大树深度与准确率的关系')\n",
    "plt.savefig('figure/决策树：默认最大特征量下最大树深度与准确率的关系',dpi=300)\n",
    "plt.grid()\n",
    "plt.legend()\n",
    "plt.show()"
   ]
  },
  {
   "cell_type": "markdown",
   "metadata": {},
   "source": [
    "### 看来最大树深度在2，最大选取特征数量为18会比较好，下面都用这个参数来做提升"
   ]
  },
  {
   "cell_type": "markdown",
   "metadata": {},
   "source": [
    "# 6.尝试组合模型"
   ]
  },
  {
   "cell_type": "code",
   "execution_count": 60,
   "metadata": {},
   "outputs": [
    {
     "name": "stderr",
     "output_type": "stream",
     "text": [
      "/home/harry/anaconda3/lib/python3.7/site-packages/sklearn/ensemble/weight_boosting.py:29: DeprecationWarning: numpy.core.umath_tests is an internal NumPy module and should not be imported. It will be removed in a future NumPy release.\n",
      "  from numpy.core.umath_tests import inner1d\n"
     ]
    }
   ],
   "source": [
    "from sklearn.ensemble import AdaBoostClassifier\n",
    "from sklearn.linear_model import LogisticRegression"
   ]
  },
  {
   "cell_type": "markdown",
   "metadata": {},
   "source": [
    "## AdaBoosting"
   ]
  },
  {
   "cell_type": "code",
   "execution_count": 95,
   "metadata": {
    "scrolled": true
   },
   "outputs": [
    {
     "name": "stdout",
     "output_type": "stream",
     "text": [
      "the accuracy of Adaboost is 0.9151361227496221%, while n=1\n",
      "the accuracy of Adaboost is 0.9121406917710655%, while n=3\n",
      "the accuracy of Adaboost is 0.9227236202929252%, while n=5\n",
      "the accuracy of Adaboost is 0.9272811626568155%, while n=7\n",
      "the accuracy of Adaboost is 0.9211972505865635%, while n=9\n",
      "the accuracy of Adaboost is 0.9271781118305826%, while n=11\n",
      "the accuracy of Adaboost is 0.9181552075887149%, while n=13\n",
      "the accuracy of Adaboost is 0.9226093512754823%, while n=15\n",
      "the accuracy of Adaboost is 0.9211282021848515%, while n=17\n",
      "the accuracy of Adaboost is 0.9363263293556583%, while n=19\n",
      "the accuracy of Adaboost is 0.9256971366653971%, while n=21\n",
      "the accuracy of Adaboost is 0.9347997857238516%, while n=23\n",
      "the accuracy of Adaboost is 0.9272347245629688%, while n=25\n",
      "the accuracy of Adaboost is 0.9302078930845503%, while n=27\n",
      "the accuracy of Adaboost is 0.9211511603436071%, while n=29\n",
      "the accuracy of Adaboost is 0.9257313130153628%, while n=31\n",
      "the accuracy of Adaboost is 0.9362919790802475%, while n=33\n",
      "the accuracy of Adaboost is 0.9332846342087%, while n=35\n",
      "the accuracy of Adaboost is 0.9287044815369443%, while n=37\n",
      "the accuracy of Adaboost is 0.9408146493923913%, while n=39\n",
      "the accuracy of Adaboost is 0.9363035451223478%, while n=41\n",
      "the accuracy of Adaboost is 0.9347997857238516%, while n=43\n",
      "the accuracy of Adaboost is 0.9332846342087%, while n=45\n",
      "the accuracy of Adaboost is 0.927234898488414%, while n=47\n",
      "the accuracy of Adaboost is 0.9317694826935486%, while n=49\n",
      "the accuracy of Adaboost is 0.9242275536168666%, while n=51\n",
      "the accuracy of Adaboost is 0.933318810558666%, while n=53\n",
      "the accuracy of Adaboost is 0.9377957384787436%, while n=55\n",
      "the accuracy of Adaboost is 0.927200548213003%, while n=57\n",
      "the accuracy of Adaboost is 0.9468869954205431%, while n=59\n",
      "the accuracy of Adaboost is 0.9362805869635922%, while n=61\n",
      "the accuracy of Adaboost is 0.930288507528363%, while n=63\n",
      "the accuracy of Adaboost is 0.9332499360823989%, while n=65\n",
      "the accuracy of Adaboost is 0.9302425912108514%, while n=67\n",
      "the accuracy of Adaboost is 0.931757742726003%, while n=69\n",
      "the accuracy of Adaboost is 0.9363261554302132%, while n=71\n",
      "the accuracy of Adaboost is 0.9257083548566072%, while n=73\n",
      "the accuracy of Adaboost is 0.9332958523999102%, while n=75\n",
      "the accuracy of Adaboost is 0.9332960263253552%, while n=77\n",
      "the accuracy of Adaboost is 0.9362462366881813%, while n=79\n",
      "the accuracy of Adaboost is 0.9332842863578099%, while n=81\n",
      "the accuracy of Adaboost is 0.936280413038147%, while n=83\n",
      "the accuracy of Adaboost is 0.9393797644701621%, while n=85\n",
      "the accuracy of Adaboost is 0.9317463506093479%, while n=87\n",
      "the accuracy of Adaboost is 0.9317461766839026%, while n=89\n",
      "the accuracy of Adaboost is 0.9378416547962549%, while n=91\n",
      "the accuracy of Adaboost is 0.9363149372390032%, while n=93\n",
      "the accuracy of Adaboost is 0.9317807008847587%, while n=95\n",
      "the accuracy of Adaboost is 0.9377613882033327%, while n=97\n",
      "the accuracy of Adaboost is 0.93929949787724%, while n=99\n",
      "the accuracy of Adaboost is 0.7711271586321808%, while n=1\n",
      "the accuracy of Adaboost is 0.7789198882007239%, while n=3\n",
      "the accuracy of Adaboost is 0.7832594150191577%, while n=5\n",
      "the accuracy of Adaboost is 0.7938773895182092%, while n=7\n",
      "the accuracy of Adaboost is 0.8075365373878833%, while n=9\n",
      "the accuracy of Adaboost is 0.8151240349311862%, while n=11\n",
      "the accuracy of Adaboost is 0.7816981732610498%, while n=13\n",
      "the accuracy of Adaboost is 0.8089484641513568%, while n=15\n",
      "the accuracy of Adaboost is 0.7893317610473094%, while n=17\n",
      "the accuracy of Adaboost is 0.7863706803441637%, while n=19\n",
      "the accuracy of Adaboost is 0.804449273774304%, while n=21\n",
      "the accuracy of Adaboost is 0.8166624924559839%, while n=23\n",
      "the accuracy of Adaboost is 0.8136207973090255%, while n=25\n",
      "the accuracy of Adaboost is 0.8151010767724308%, while n=27\n",
      "the accuracy of Adaboost is 0.7908472604133513%, while n=29\n",
      "the accuracy of Adaboost is 0.7999721719287809%, while n=31\n",
      "the accuracy of Adaboost is 0.8044951900918154%, while n=33\n",
      "the accuracy of Adaboost is 0.8136668875519819%, while n=35\n",
      "the accuracy of Adaboost is 0.7999721719287809%, while n=37\n",
      "the accuracy of Adaboost is 0.8166048361709268%, while n=39\n",
      "the accuracy of Adaboost is 0.8165822258630616%, while n=41\n",
      "the accuracy of Adaboost is 0.8045526724514268%, while n=43\n",
      "the accuracy of Adaboost is 0.8150558561567%, while n=45\n",
      "the accuracy of Adaboost is 0.8166740584980843%, while n=47\n",
      "the accuracy of Adaboost is 0.8090064682873038%, while n=49\n",
      "the accuracy of Adaboost is 0.8226892700175142%, while n=51\n",
      "the accuracy of Adaboost is 0.8150323762216087%, while n=53\n",
      "the accuracy of Adaboost is 0.8076059336404857%, while n=55\n",
      "the accuracy of Adaboost is 0.8045297142926714%, while n=57\n",
      "the accuracy of Adaboost is 0.8136090573414799%, while n=59\n",
      "the accuracy of Adaboost is 0.7954158470430064%, while n=61\n",
      "the accuracy of Adaboost is 0.7999267773876051%, while n=63\n",
      "the accuracy of Adaboost is 0.7924654627547356%, while n=65\n",
      "the accuracy of Adaboost is 0.7908814367633171%, while n=67\n",
      "the accuracy of Adaboost is 0.7983886677136978%, while n=69\n",
      "the accuracy of Adaboost is 0.8045065822084705%, while n=71\n",
      "the accuracy of Adaboost is 0.7969301289309325%, while n=73\n",
      "the accuracy of Adaboost is 0.8044951900918154%, while n=75\n",
      "the accuracy of Adaboost is 0.7999499094718058%, while n=77\n",
      "the accuracy of Adaboost is 0.8029795168003284%, while n=79\n",
      "the accuracy of Adaboost is 0.8090756906144613%, while n=81\n",
      "the accuracy of Adaboost is 0.7953923671079155%, while n=83\n",
      "the accuracy of Adaboost is 0.8090408185627149%, while n=85\n",
      "the accuracy of Adaboost is 0.7984458022224193%, while n=87\n",
      "the accuracy of Adaboost is 0.8075600173229743%, while n=89\n",
      "the accuracy of Adaboost is 0.8044951900918151%, while n=91\n",
      "the accuracy of Adaboost is 0.8181774700456902%, while n=93\n",
      "the accuracy of Adaboost is 0.8060906081998891%, while n=95\n",
      "the accuracy of Adaboost is 0.7968966482827471%, while n=97\n",
      "the accuracy of Adaboost is 0.8045062343575802%, while n=99\n"
     ]
    }
   ],
   "source": [
    "from sklearn.ensemble import AdaBoostClassifier\n",
    "from sklearn.tree import DecisionTreeClassifier\n",
    "from sklearn.linear_model import LogisticRegression\n",
    "from sklearn.cross_validation import cross_val_score\n",
    "ada1_accuracy=[]\n",
    "ada2_accuracy=[]\n",
    "n_list=[i for i in range(1,100,2)]\n",
    "for times in n_list:\n",
    "    ada1=AdaBoostClassifier(DecisionTreeClassifier(max_depth=2,max_features=10),\n",
    "                             algorithm=\"SAMME\",\n",
    "                             n_estimators=times)\n",
    "    ada1_scores=cross_val_score(ada1,X_all,Y1_all,cv=5,scoring='accuracy')\n",
    "    ada1_accuracy.append(ada1_scores.mean())\n",
    "    print(\"the accuracy of Adaboost is {0}%, while n={1}\".format(ada1_scores.mean(),times))\n",
    "for times in n_list:\n",
    "    ada2=AdaBoostClassifier(DecisionTreeClassifier(max_depth=2,max_features=10),\n",
    "                             algorithm=\"SAMME\",\n",
    "                             n_estimators=times)\n",
    "    ada2_scores=cross_val_score(ada2,X_all,Y2_all,cv=5,scoring='accuracy')\n",
    "    ada2_accuracy.append(ada2_scores.mean())\n",
    "    print(\"the accuracy of Adaboost is {0}%, while n={1}\".format(ada2_scores.mean(),times))"
   ]
  },
  {
   "cell_type": "code",
   "execution_count": 96,
   "metadata": {},
   "outputs": [
    {
     "name": "stderr",
     "output_type": "stream",
     "text": [
      "/home/harry/anaconda3/lib/python3.7/site-packages/matplotlib/font_manager.py:1331: UserWarning: findfont: Font family ['sans-serif'] not found. Falling back to DejaVu Sans\n",
      "  (prop.get_family(), self.defaultFamily[fontext]))\n"
     ]
    },
    {
     "data": {
      "image/png": "[encoded data removed]",
      "text/plain": [
       "<Figure size 432x288 with 1 Axes>"
      ]
     },
     "metadata": {
      "needs_background": "light"
     },
     "output_type": "display_data"
    }
   ],
   "source": [
    "plt.plot(n_list,ada1_accuracy,'o-',label='模板评论识别准确率')\n",
    "plt.plot(n_list,ada2_accuracy,'o-',label='水评识别准确率')\n",
    "plt.xlabel('迭代次数')\n",
    "plt.ylabel('accuracy')\n",
    "plt.title('AdaBoost迭代次数与准确率的关系')\n",
    "plt.savefig('figure/AdaBoost迭代次数与准确率的关系',dpi=300)\n",
    "plt.grid()\n",
    "plt.legend()\n",
    "plt.show()"
   ]
  },
  {
   "cell_type": "code",
   "execution_count": 63,
   "metadata": {},
   "outputs": [
    {
     "name": "stderr",
     "output_type": "stream",
     "text": [
      "/home/harry/anaconda3/lib/python3.7/site-packages/matplotlib/font_manager.py:1331: UserWarning: findfont: Font family ['sans-serif'] not found. Falling back to DejaVu Sans\n",
      "  (prop.get_family(), self.defaultFamily[fontext]))\n"
     ]
    },
    {
     "data": {
      "image/png": "[encoded data removed]",
      "text/plain": [
       "<Figure size 432x288 with 1 Axes>"
      ]
     },
     "metadata": {
      "needs_background": "light"
     },
     "output_type": "display_data"
    }
   ],
   "source": [
    "##备用\n",
    "plt.plot(n_list,ada1_accuracy,'o-',label='模板评论识别准确率')\n",
    "plt.plot(n_list,ada2_accuracy,'o-',label='水评识别准确率')\n",
    "plt.xlabel('迭代次数')\n",
    "plt.ylabel('accuracy')\n",
    "plt.title('AdaBoost迭代次数与准确率的关系')\n",
    "plt.savefig('figure/AdaBoost迭代次数与准确率的关系',dpi=300)\n",
    "plt.grid()\n",
    "plt.legend()\n",
    "plt.show()"
   ]
  },
  {
   "cell_type": "markdown",
   "metadata": {},
   "source": [
    "## Gradient Boosting"
   ]
  },
  {
   "cell_type": "code",
   "execution_count": 64,
   "metadata": {},
   "outputs": [
    {
     "name": "stdout",
     "output_type": "stream",
     "text": [
      "The accuracy of GBDT1 model is 93.17461766839025%\n",
      "The accuracy of GBDT2 model is 81.51133385163115%\n"
     ]
    }
   ],
   "source": [
    "from sklearn.ensemble import GradientBoostingClassifier\n",
    "gdbt1=GradientBoostingClassifier()\n",
    "gdbt1_scores=cross_val_score(gdbt1,X_all,Y1_all,cv=5,scoring='accuracy')\n",
    "print(\"The accuracy of GBDT1 model is {0}%\".format(gdbt1_scores.mean()*100))\n",
    "gdbt2=GradientBoostingClassifier()\n",
    "gdbt2_scores=cross_val_score(gdbt2,X_all,Y2_all,cv=5,scoring='accuracy')\n",
    "print(\"The accuracy of GBDT2 model is {0}%\".format(gdbt2_scores.mean()*100))"
   ]
  },
  {
   "cell_type": "markdown",
   "metadata": {},
   "source": [
    "## Random Forest"
   ]
  },
  {
   "cell_type": "code",
   "execution_count": 65,
   "metadata": {},
   "outputs": [
    {
     "name": "stdout",
     "output_type": "stream",
     "text": [
      "The accuracy of Random forest1 model is 91.35980130757149%\n",
      "The accuracy of Random forest2 model is 78.93664591736106%\n"
     ]
    }
   ],
   "source": [
    "from sklearn.ensemble import RandomForestClassifier\n",
    "rf1=RandomForestClassifier(n_estimators=10,n_jobs=-1)\n",
    "rf1_scores=cross_val_score(rf1,X_all,Y1_all,cv=5,scoring='accuracy')\n",
    "print(\"The accuracy of Random forest1 model is {0}%\".format(rf1_scores.mean()*100))\n",
    "rf2=RandomForestClassifier()\n",
    "rf2_scores=cross_val_score(rf2,X_all,Y2_all,cv=5,scoring='accuracy')\n",
    "print(\"The accuracy of Random forest2 model is {0}%\".format(rf2_scores.mean()*100))"
   ]
  },
  {
   "cell_type": "code",
   "execution_count": 111,
   "metadata": {},
   "outputs": [
    {
     "data": {
      "text/plain": [
       "GridSearchCV(cv=5, error_score='raise',\n",
       "       estimator=RandomForestClassifier(bootstrap=True, class_weight=None, criterion='gini',\n",
       "            max_depth=None, max_features='auto', max_leaf_nodes=None,\n",
       "            min_impurity_decrease=0.0, min_impurity_split=None,\n",
       "            min_samples_leaf=1, min_samples_split=2,\n",
       "            min_weight_fraction_leaf=0.0, n_estimators=10, n_jobs=1,\n",
       "            oob_score=False, random_state=None, verbose=0,\n",
       "            warm_start=False),\n",
       "       fit_params={}, iid=True, n_jobs=-1,\n",
       "       param_grid=[{'max_features': [1, 5, 9, 13, 17, 21, 25, 29], 'max_depth': [1, 6, 11, 16], 'n_estimators': [10, 155]}],\n",
       "       pre_dispatch='2*n_jobs', refit=True, scoring='accuracy', verbose=0)"
      ]
     },
     "execution_count": 111,
     "metadata": {},
     "output_type": "execute_result"
    }
   ],
   "source": [
    "rf1_param_templet = [{'max_features' :[i for i in range(1,32,4)], 'max_depth':[i for i in range(1,20,5)],'n_estimators':[10,155]}]                                         \n",
    "rf1_grid=GridSearchCV(rf1,rf1_param_templet,cv=5,scoring='accuracy',n_jobs=-1)\n",
    "rf1_grid.fit(X_all,Y1_all)\n",
    "rf2_param_templet = [{'max_features' :[i for i in range(1,32,4)], 'max_depth':[i for i in range(1,20,5)],'n_estimators':[10,155]}]                                         \n",
    "rf2_grid=GridSearchCV(rf2,rf2_param_templet,cv=5,scoring='accuracy',n_jobs=-1)\n",
    "rf2_grid.fit(X_all,Y2_all)"
   ]
  },
  {
   "cell_type": "code",
   "execution_count": 112,
   "metadata": {},
   "outputs": [
    {
     "name": "stdout",
     "output_type": "stream",
     "text": [
      "0.9424242424242424 with {'max_depth': 11, 'max_features': 1, 'n_estimators': 10}\n"
     ]
    }
   ],
   "source": [
    "print(rf1_grid.best_score_,'with',rf1_grid.best_params_)"
   ]
  },
  {
   "cell_type": "code",
   "execution_count": 113,
   "metadata": {
    "scrolled": true
   },
   "outputs": [
    {
     "data": {
      "text/plain": [
       "[mean: 0.88333, std: 0.01165, params: {'max_depth': 1, 'max_features': 1, 'n_estimators': 10},\n",
       " mean: 0.90000, std: 0.01948, params: {'max_depth': 1, 'max_features': 1, 'n_estimators': 155},\n",
       " mean: 0.92576, std: 0.01603, params: {'max_depth': 1, 'max_features': 5, 'n_estimators': 10},\n",
       " mean: 0.92727, std: 0.01957, params: {'max_depth': 1, 'max_features': 5, 'n_estimators': 155},\n",
       " mean: 0.92879, std: 0.01304, params: {'max_depth': 1, 'max_features': 9, 'n_estimators': 10},\n",
       " mean: 0.92576, std: 0.01305, params: {'max_depth': 1, 'max_features': 9, 'n_estimators': 155},\n",
       " mean: 0.92727, std: 0.01395, params: {'max_depth': 1, 'max_features': 13, 'n_estimators': 10},\n",
       " mean: 0.92576, std: 0.01012, params: {'max_depth': 1, 'max_features': 13, 'n_estimators': 155},\n",
       " mean: 0.92727, std: 0.01730, params: {'max_depth': 1, 'max_features': 17, 'n_estimators': 10},\n",
       " mean: 0.92727, std: 0.01223, params: {'max_depth': 1, 'max_features': 17, 'n_estimators': 155},\n",
       " mean: 0.92121, std: 0.01042, params: {'max_depth': 1, 'max_features': 21, 'n_estimators': 10},\n",
       " mean: 0.92424, std: 0.01097, params: {'max_depth': 1, 'max_features': 21, 'n_estimators': 155},\n",
       " mean: 0.93333, std: 0.01927, params: {'max_depth': 1, 'max_features': 25, 'n_estimators': 10},\n",
       " mean: 0.92576, std: 0.01222, params: {'max_depth': 1, 'max_features': 25, 'n_estimators': 155},\n",
       " mean: 0.92727, std: 0.01576, params: {'max_depth': 1, 'max_features': 29, 'n_estimators': 10},\n",
       " mean: 0.92424, std: 0.01356, params: {'max_depth': 1, 'max_features': 29, 'n_estimators': 155},\n",
       " mean: 0.92576, std: 0.00776, params: {'max_depth': 6, 'max_features': 1, 'n_estimators': 10},\n",
       " mean: 0.92576, std: 0.01419, params: {'max_depth': 6, 'max_features': 1, 'n_estimators': 155},\n",
       " mean: 0.93636, std: 0.01420, params: {'max_depth': 6, 'max_features': 5, 'n_estimators': 10},\n",
       " mean: 0.93485, std: 0.01062, params: {'max_depth': 6, 'max_features': 5, 'n_estimators': 155},\n",
       " mean: 0.93788, std: 0.01640, params: {'max_depth': 6, 'max_features': 9, 'n_estimators': 10},\n",
       " mean: 0.94091, std: 0.01245, params: {'max_depth': 6, 'max_features': 9, 'n_estimators': 155},\n",
       " mean: 0.93182, std: 0.01393, params: {'max_depth': 6, 'max_features': 13, 'n_estimators': 10},\n",
       " mean: 0.93636, std: 0.01263, params: {'max_depth': 6, 'max_features': 13, 'n_estimators': 155},\n",
       " mean: 0.92424, std: 0.01999, params: {'max_depth': 6, 'max_features': 17, 'n_estimators': 10},\n",
       " mean: 0.93636, std: 0.01263, params: {'max_depth': 6, 'max_features': 17, 'n_estimators': 155},\n",
       " mean: 0.92576, std: 0.01473, params: {'max_depth': 6, 'max_features': 21, 'n_estimators': 10},\n",
       " mean: 0.93788, std: 0.01421, params: {'max_depth': 6, 'max_features': 21, 'n_estimators': 155},\n",
       " mean: 0.93030, std: 0.00863, params: {'max_depth': 6, 'max_features': 25, 'n_estimators': 10},\n",
       " mean: 0.93788, std: 0.01577, params: {'max_depth': 6, 'max_features': 25, 'n_estimators': 155},\n",
       " mean: 0.92727, std: 0.01980, params: {'max_depth': 6, 'max_features': 29, 'n_estimators': 10},\n",
       " mean: 0.93939, std: 0.01103, params: {'max_depth': 6, 'max_features': 29, 'n_estimators': 155},\n",
       " mean: 0.94242, std: 0.01436, params: {'max_depth': 11, 'max_features': 1, 'n_estimators': 10},\n",
       " mean: 0.93333, std: 0.01256, params: {'max_depth': 11, 'max_features': 1, 'n_estimators': 155},\n",
       " mean: 0.92121, std: 0.01435, params: {'max_depth': 11, 'max_features': 5, 'n_estimators': 10},\n",
       " mean: 0.93485, std: 0.01070, params: {'max_depth': 11, 'max_features': 5, 'n_estimators': 155},\n",
       " mean: 0.93636, std: 0.01593, params: {'max_depth': 11, 'max_features': 9, 'n_estimators': 10},\n",
       " mean: 0.93636, std: 0.00939, params: {'max_depth': 11, 'max_features': 9, 'n_estimators': 155},\n",
       " mean: 0.92879, std: 0.01847, params: {'max_depth': 11, 'max_features': 13, 'n_estimators': 10},\n",
       " mean: 0.93788, std: 0.01142, params: {'max_depth': 11, 'max_features': 13, 'n_estimators': 155},\n",
       " mean: 0.92273, std: 0.00856, params: {'max_depth': 11, 'max_features': 17, 'n_estimators': 10},\n",
       " mean: 0.93788, std: 0.01421, params: {'max_depth': 11, 'max_features': 17, 'n_estimators': 155},\n",
       " mean: 0.93182, std: 0.02015, params: {'max_depth': 11, 'max_features': 21, 'n_estimators': 10},\n",
       " mean: 0.93485, std: 0.01732, params: {'max_depth': 11, 'max_features': 21, 'n_estimators': 155},\n",
       " mean: 0.93030, std: 0.02033, params: {'max_depth': 11, 'max_features': 25, 'n_estimators': 10},\n",
       " mean: 0.93485, std: 0.01357, params: {'max_depth': 11, 'max_features': 25, 'n_estimators': 155},\n",
       " mean: 0.92576, std: 0.01204, params: {'max_depth': 11, 'max_features': 29, 'n_estimators': 10},\n",
       " mean: 0.93788, std: 0.01421, params: {'max_depth': 11, 'max_features': 29, 'n_estimators': 155},\n",
       " mean: 0.91970, std: 0.00866, params: {'max_depth': 16, 'max_features': 1, 'n_estimators': 10},\n",
       " mean: 0.93485, std: 0.01262, params: {'max_depth': 16, 'max_features': 1, 'n_estimators': 155},\n",
       " mean: 0.92273, std: 0.01637, params: {'max_depth': 16, 'max_features': 5, 'n_estimators': 10},\n",
       " mean: 0.93788, std: 0.01150, params: {'max_depth': 16, 'max_features': 5, 'n_estimators': 155},\n",
       " mean: 0.93030, std: 0.01325, params: {'max_depth': 16, 'max_features': 9, 'n_estimators': 10},\n",
       " mean: 0.93636, std: 0.01263, params: {'max_depth': 16, 'max_features': 9, 'n_estimators': 155},\n",
       " mean: 0.92727, std: 0.01247, params: {'max_depth': 16, 'max_features': 13, 'n_estimators': 10},\n",
       " mean: 0.93636, std: 0.01595, params: {'max_depth': 16, 'max_features': 13, 'n_estimators': 155},\n",
       " mean: 0.92273, std: 0.01790, params: {'max_depth': 16, 'max_features': 17, 'n_estimators': 10},\n",
       " mean: 0.93636, std: 0.01740, params: {'max_depth': 16, 'max_features': 17, 'n_estimators': 155},\n",
       " mean: 0.93182, std: 0.01959, params: {'max_depth': 16, 'max_features': 21, 'n_estimators': 10},\n",
       " mean: 0.93939, std: 0.01304, params: {'max_depth': 16, 'max_features': 21, 'n_estimators': 155},\n",
       " mean: 0.93182, std: 0.00814, params: {'max_depth': 16, 'max_features': 25, 'n_estimators': 10},\n",
       " mean: 0.93788, std: 0.01240, params: {'max_depth': 16, 'max_features': 25, 'n_estimators': 155},\n",
       " mean: 0.93636, std: 0.01658, params: {'max_depth': 16, 'max_features': 29, 'n_estimators': 10},\n",
       " mean: 0.93788, std: 0.01428, params: {'max_depth': 16, 'max_features': 29, 'n_estimators': 155}]"
      ]
     },
     "execution_count": 113,
     "metadata": {},
     "output_type": "execute_result"
    }
   ],
   "source": [
    "rf1_grid.grid_scores_"
   ]
  },
  {
   "cell_type": "code",
   "execution_count": 114,
   "metadata": {
    "scrolled": true
   },
   "outputs": [
    {
     "name": "stdout",
     "output_type": "stream",
     "text": [
      "0.8257575757575758 with {'max_depth': 6, 'max_features': 25, 'n_estimators': 155}\n"
     ]
    }
   ],
   "source": [
    "print(rf2_grid.best_score_,'with',rf2_grid.best_params_)"
   ]
  },
  {
   "cell_type": "code",
   "execution_count": 115,
   "metadata": {},
   "outputs": [
    {
     "data": {
      "text/plain": [
       "[mean: 0.78030, std: 0.00890, params: {'max_depth': 1, 'max_features': 1, 'n_estimators': 10},\n",
       " mean: 0.77424, std: 0.00229, params: {'max_depth': 1, 'max_features': 1, 'n_estimators': 155},\n",
       " mean: 0.79242, std: 0.01653, params: {'max_depth': 1, 'max_features': 5, 'n_estimators': 10},\n",
       " mean: 0.78182, std: 0.01587, params: {'max_depth': 1, 'max_features': 5, 'n_estimators': 155},\n",
       " mean: 0.79848, std: 0.00687, params: {'max_depth': 1, 'max_features': 9, 'n_estimators': 10},\n",
       " mean: 0.79848, std: 0.01556, params: {'max_depth': 1, 'max_features': 9, 'n_estimators': 155},\n",
       " mean: 0.79848, std: 0.01641, params: {'max_depth': 1, 'max_features': 13, 'n_estimators': 10},\n",
       " mean: 0.80000, std: 0.02067, params: {'max_depth': 1, 'max_features': 13, 'n_estimators': 155},\n",
       " mean: 0.79848, std: 0.01480, params: {'max_depth': 1, 'max_features': 17, 'n_estimators': 10},\n",
       " mean: 0.80000, std: 0.02022, params: {'max_depth': 1, 'max_features': 17, 'n_estimators': 155},\n",
       " mean: 0.79848, std: 0.01641, params: {'max_depth': 1, 'max_features': 21, 'n_estimators': 10},\n",
       " mean: 0.80606, std: 0.02260, params: {'max_depth': 1, 'max_features': 21, 'n_estimators': 155},\n",
       " mean: 0.80000, std: 0.01920, params: {'max_depth': 1, 'max_features': 25, 'n_estimators': 10},\n",
       " mean: 0.80152, std: 0.01379, params: {'max_depth': 1, 'max_features': 25, 'n_estimators': 155},\n",
       " mean: 0.79394, std: 0.02259, params: {'max_depth': 1, 'max_features': 29, 'n_estimators': 10},\n",
       " mean: 0.80909, std: 0.01964, params: {'max_depth': 1, 'max_features': 29, 'n_estimators': 155},\n",
       " mean: 0.79242, std: 0.01862, params: {'max_depth': 6, 'max_features': 1, 'n_estimators': 10},\n",
       " mean: 0.80152, std: 0.02246, params: {'max_depth': 6, 'max_features': 1, 'n_estimators': 155},\n",
       " mean: 0.79545, std: 0.01467, params: {'max_depth': 6, 'max_features': 5, 'n_estimators': 10},\n",
       " mean: 0.81970, std: 0.02417, params: {'max_depth': 6, 'max_features': 5, 'n_estimators': 155},\n",
       " mean: 0.82121, std: 0.01051, params: {'max_depth': 6, 'max_features': 9, 'n_estimators': 10},\n",
       " mean: 0.81818, std: 0.02329, params: {'max_depth': 6, 'max_features': 9, 'n_estimators': 155},\n",
       " mean: 0.80455, std: 0.02964, params: {'max_depth': 6, 'max_features': 13, 'n_estimators': 10},\n",
       " mean: 0.81667, std: 0.01716, params: {'max_depth': 6, 'max_features': 13, 'n_estimators': 155},\n",
       " mean: 0.79848, std: 0.00650, params: {'max_depth': 6, 'max_features': 17, 'n_estimators': 10},\n",
       " mean: 0.81818, std: 0.01698, params: {'max_depth': 6, 'max_features': 17, 'n_estimators': 155},\n",
       " mean: 0.80909, std: 0.03178, params: {'max_depth': 6, 'max_features': 21, 'n_estimators': 10},\n",
       " mean: 0.81515, std: 0.01768, params: {'max_depth': 6, 'max_features': 21, 'n_estimators': 155},\n",
       " mean: 0.80909, std: 0.03162, params: {'max_depth': 6, 'max_features': 25, 'n_estimators': 10},\n",
       " mean: 0.82576, std: 0.01270, params: {'max_depth': 6, 'max_features': 25, 'n_estimators': 155},\n",
       " mean: 0.79091, std: 0.02079, params: {'max_depth': 6, 'max_features': 29, 'n_estimators': 10},\n",
       " mean: 0.81818, std: 0.01962, params: {'max_depth': 6, 'max_features': 29, 'n_estimators': 155},\n",
       " mean: 0.80000, std: 0.01727, params: {'max_depth': 11, 'max_features': 1, 'n_estimators': 10},\n",
       " mean: 0.81667, std: 0.02700, params: {'max_depth': 11, 'max_features': 1, 'n_estimators': 155},\n",
       " mean: 0.81061, std: 0.02136, params: {'max_depth': 11, 'max_features': 5, 'n_estimators': 10},\n",
       " mean: 0.81515, std: 0.01011, params: {'max_depth': 11, 'max_features': 5, 'n_estimators': 155},\n",
       " mean: 0.80303, std: 0.01429, params: {'max_depth': 11, 'max_features': 9, 'n_estimators': 10},\n",
       " mean: 0.82273, std: 0.03001, params: {'max_depth': 11, 'max_features': 9, 'n_estimators': 155},\n",
       " mean: 0.80758, std: 0.03342, params: {'max_depth': 11, 'max_features': 13, 'n_estimators': 10},\n",
       " mean: 0.82121, std: 0.01854, params: {'max_depth': 11, 'max_features': 13, 'n_estimators': 155},\n",
       " mean: 0.79848, std: 0.02217, params: {'max_depth': 11, 'max_features': 17, 'n_estimators': 10},\n",
       " mean: 0.81970, std: 0.02293, params: {'max_depth': 11, 'max_features': 17, 'n_estimators': 155},\n",
       " mean: 0.79545, std: 0.03504, params: {'max_depth': 11, 'max_features': 21, 'n_estimators': 10},\n",
       " mean: 0.82121, std: 0.02408, params: {'max_depth': 11, 'max_features': 21, 'n_estimators': 155},\n",
       " mean: 0.80909, std: 0.02375, params: {'max_depth': 11, 'max_features': 25, 'n_estimators': 10},\n",
       " mean: 0.81970, std: 0.02666, params: {'max_depth': 11, 'max_features': 25, 'n_estimators': 155},\n",
       " mean: 0.80152, std: 0.00912, params: {'max_depth': 11, 'max_features': 29, 'n_estimators': 10},\n",
       " mean: 0.81818, std: 0.02444, params: {'max_depth': 11, 'max_features': 29, 'n_estimators': 155},\n",
       " mean: 0.78939, std: 0.02438, params: {'max_depth': 16, 'max_features': 1, 'n_estimators': 10},\n",
       " mean: 0.80303, std: 0.02293, params: {'max_depth': 16, 'max_features': 1, 'n_estimators': 155},\n",
       " mean: 0.80909, std: 0.01801, params: {'max_depth': 16, 'max_features': 5, 'n_estimators': 10},\n",
       " mean: 0.82424, std: 0.02459, params: {'max_depth': 16, 'max_features': 5, 'n_estimators': 155},\n",
       " mean: 0.80909, std: 0.02120, params: {'max_depth': 16, 'max_features': 9, 'n_estimators': 10},\n",
       " mean: 0.81364, std: 0.03118, params: {'max_depth': 16, 'max_features': 9, 'n_estimators': 155},\n",
       " mean: 0.79091, std: 0.03001, params: {'max_depth': 16, 'max_features': 13, 'n_estimators': 10},\n",
       " mean: 0.82424, std: 0.02699, params: {'max_depth': 16, 'max_features': 13, 'n_estimators': 155},\n",
       " mean: 0.78939, std: 0.02932, params: {'max_depth': 16, 'max_features': 17, 'n_estimators': 10},\n",
       " mean: 0.81667, std: 0.01290, params: {'max_depth': 16, 'max_features': 17, 'n_estimators': 155},\n",
       " mean: 0.78788, std: 0.01748, params: {'max_depth': 16, 'max_features': 21, 'n_estimators': 10},\n",
       " mean: 0.81818, std: 0.02444, params: {'max_depth': 16, 'max_features': 21, 'n_estimators': 155},\n",
       " mean: 0.80909, std: 0.01232, params: {'max_depth': 16, 'max_features': 25, 'n_estimators': 10},\n",
       " mean: 0.81970, std: 0.01701, params: {'max_depth': 16, 'max_features': 25, 'n_estimators': 155},\n",
       " mean: 0.79848, std: 0.02722, params: {'max_depth': 16, 'max_features': 29, 'n_estimators': 10},\n",
       " mean: 0.81515, std: 0.01420, params: {'max_depth': 16, 'max_features': 29, 'n_estimators': 155}]"
      ]
     },
     "execution_count": 115,
     "metadata": {},
     "output_type": "execute_result"
    }
   ],
   "source": [
    "rf2_grid.grid_scores_"
   ]
  },
  {
   "cell_type": "markdown",
   "metadata": {},
   "source": [
    "## 最后对于水评分类随机森林还是蛮好的"
   ]
  }
 ],
 "metadata": {
  "kernelspec": {
   "display_name": "Python 3",
   "language": "python",
   "name": "python3"
  },
  "language_info": {
   "codemirror_mode": {
    "name": "ipython",
    "version": 3
   },
   "file_extension": ".py",
   "mimetype": "text/x-python",
   "name": "python",
   "nbconvert_exporter": "python",
   "pygments_lexer": "ipython3",
   "version": "3.7.0"
  }
 },
 "nbformat": 4,
 "nbformat_minor": 2
}
